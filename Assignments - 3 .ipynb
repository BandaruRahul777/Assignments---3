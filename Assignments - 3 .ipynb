{
 "cells": [
  {
   "cell_type": "code",
   "execution_count": null,
   "id": "7a0cb8ad",
   "metadata": {},
   "outputs": [],
   "source": [
    "Question 1"
   ]
  },
  {
   "cell_type": "code",
   "execution_count": null,
   "id": "c1ef29e6",
   "metadata": {},
   "outputs": [],
   "source": [
    "It reduce our need for a duplicate code. Which makes shorter programs , easy to update & read."
   ]
  },
  {
   "cell_type": "code",
   "execution_count": null,
   "id": "472b870d",
   "metadata": {},
   "outputs": [],
   "source": [
    "Question 2"
   ]
  },
  {
   "cell_type": "code",
   "execution_count": null,
   "id": "33c28c08",
   "metadata": {},
   "outputs": [],
   "source": [
    "The code in a function executes when the function is called, it will not execute when the function is defined."
   ]
  },
  {
   "cell_type": "code",
   "execution_count": null,
   "id": "9b7c5bc6",
   "metadata": {},
   "outputs": [],
   "source": [
    "Question 3"
   ]
  },
  {
   "cell_type": "code",
   "execution_count": null,
   "id": "6d52c4c7",
   "metadata": {},
   "outputs": [],
   "source": [
    "To create a function we have to use def ."
   ]
  },
  {
   "cell_type": "code",
   "execution_count": null,
   "id": "4689f892",
   "metadata": {},
   "outputs": [],
   "source": [
    "Question 4"
   ]
  },
  {
   "cell_type": "code",
   "execution_count": null,
   "id": "3d2848a4",
   "metadata": {},
   "outputs": [],
   "source": [
    "A function is a block of reusable code that performs a specific task or set of tasks. It is defined using the word def .\n",
    "\n",
    "A function call is an instruction that tells the program to execute the code inside a specific function at a particular point\n",
    "in the program. "
   ]
  },
  {
   "cell_type": "code",
   "execution_count": null,
   "id": "332a3084",
   "metadata": {},
   "outputs": [],
   "source": [
    "Question 5"
   ]
  },
  {
   "cell_type": "code",
   "execution_count": null,
   "id": "97f9cfee",
   "metadata": {},
   "outputs": [],
   "source": [
    "There is one global scope, and a local scope is created whenever a function is called."
   ]
  },
  {
   "cell_type": "code",
   "execution_count": null,
   "id": "9edf1b40",
   "metadata": {},
   "outputs": [],
   "source": [
    "Question 6"
   ]
  },
  {
   "cell_type": "code",
   "execution_count": null,
   "id": "56c6e416",
   "metadata": {},
   "outputs": [],
   "source": [
    "When a function call returns, the local scope linked with that function is destroyed, and the variables defined within\n",
    "that local scope cease to exist.They are no longer accessible from outside the function."
   ]
  },
  {
   "cell_type": "code",
   "execution_count": null,
   "id": "788912aa",
   "metadata": {},
   "outputs": [],
   "source": [
    "Question 7"
   ]
  },
  {
   "cell_type": "code",
   "execution_count": null,
   "id": "b4a99242",
   "metadata": {},
   "outputs": [],
   "source": [
    "A return value is the value that a function call evaluates to.Like any value,a return value can be used as part of an expression."
   ]
  },
  {
   "cell_type": "code",
   "execution_count": null,
   "id": "4157a549",
   "metadata": {},
   "outputs": [],
   "source": [
    "Question 8"
   ]
  },
  {
   "cell_type": "code",
   "execution_count": null,
   "id": "0715ebad",
   "metadata": {},
   "outputs": [],
   "source": [
    "If there is no return statement for a function, its return value is None."
   ]
  },
  {
   "cell_type": "code",
   "execution_count": null,
   "id": "e8513360",
   "metadata": {},
   "outputs": [],
   "source": [
    "Question 9"
   ]
  },
  {
   "cell_type": "code",
   "execution_count": null,
   "id": "04202741",
   "metadata": {},
   "outputs": [],
   "source": [
    "A global statement will force a variable in a function to refer to the global variable."
   ]
  },
  {
   "cell_type": "code",
   "execution_count": null,
   "id": "ec1457af",
   "metadata": {},
   "outputs": [],
   "source": [
    "Question 10"
   ]
  },
  {
   "cell_type": "code",
   "execution_count": null,
   "id": "4b33313f",
   "metadata": {},
   "outputs": [],
   "source": [
    "The data type of None is NoneType."
   ]
  },
  {
   "cell_type": "code",
   "execution_count": null,
   "id": "a679b661",
   "metadata": {},
   "outputs": [],
   "source": [
    "Question 11"
   ]
  },
  {
   "cell_type": "code",
   "execution_count": null,
   "id": "fcd46699",
   "metadata": {},
   "outputs": [],
   "source": [
    "That import statement imports a module named areallyourpetsnamederic."
   ]
  },
  {
   "cell_type": "code",
   "execution_count": null,
   "id": "dd0a369b",
   "metadata": {},
   "outputs": [],
   "source": [
    "Question 12"
   ]
  },
  {
   "cell_type": "code",
   "execution_count": null,
   "id": "319f94d0",
   "metadata": {},
   "outputs": [],
   "source": [
    "This function can be called with spam.bacon()."
   ]
  },
  {
   "cell_type": "code",
   "execution_count": null,
   "id": "c170caf2",
   "metadata": {},
   "outputs": [],
   "source": [
    "Question 13"
   ]
  },
  {
   "cell_type": "code",
   "execution_count": null,
   "id": "9f1aa526",
   "metadata": {},
   "outputs": [],
   "source": [
    "Place the line of code that might cause an error in a try clause."
   ]
  },
  {
   "cell_type": "code",
   "execution_count": null,
   "id": "d3eeee51",
   "metadata": {},
   "outputs": [],
   "source": [
    "Question 14"
   ]
  },
  {
   "cell_type": "code",
   "execution_count": null,
   "id": "767a7408",
   "metadata": {},
   "outputs": [],
   "source": [
    "The code that could cause an error goes in the try clause.\n",
    "\n",
    "The code that executes if an error happens goes in the except clause."
   ]
  }
 ],
 "metadata": {
  "kernelspec": {
   "display_name": "Python 3 (ipykernel)",
   "language": "python",
   "name": "python3"
  },
  "language_info": {
   "codemirror_mode": {
    "name": "ipython",
    "version": 3
   },
   "file_extension": ".py",
   "mimetype": "text/x-python",
   "name": "python",
   "nbconvert_exporter": "python",
   "pygments_lexer": "ipython3",
   "version": "3.9.7"
  }
 },
 "nbformat": 4,
 "nbformat_minor": 5
}
